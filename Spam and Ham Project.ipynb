{
 "cells": [
  {
   "cell_type": "markdown",
   "id": "6c559b3c",
   "metadata": {},
   "source": [
    "# Import The Neccessary Dependencies"
   ]
  },
  {
   "cell_type": "code",
   "execution_count": 1,
   "id": "c9f69df8",
   "metadata": {},
   "outputs": [],
   "source": [
    "import numpy as np\n",
    "import pandas as pd\n",
    "\n",
    "import sklearn\n",
    "from sklearn.feature_extraction.text import TfidfVectorizer\n",
    "from sklearn.model_selection import train_test_split\n",
    "from sklearn.linear_model import LogisticRegression\n",
    "from sklearn.metrics import accuracy_score"
   ]
  },
  {
   "cell_type": "markdown",
   "id": "4f894d52",
   "metadata": {},
   "source": [
    "# Data Collection and Pre-Processing"
   ]
  },
  {
   "cell_type": "code",
   "execution_count": 2,
   "id": "5be59daa",
   "metadata": {},
   "outputs": [],
   "source": [
    "#Loading our data from csv file to pandas dataframe\n",
    "mail_data = pd.read_csv('mail.csv')"
   ]
  },
  {
   "cell_type": "code",
   "execution_count": 3,
   "id": "0fee63f0",
   "metadata": {},
   "outputs": [
    {
     "name": "stdout",
     "output_type": "stream",
     "text": [
      "     Category                                            Message\n",
      "0         ham  Go until jurong point, crazy.. Available only ...\n",
      "1         ham                      Ok lar... Joking wif u oni...\n",
      "2        spam  Free entry in 2 a wkly comp to win FA Cup fina...\n",
      "3         ham  U dun say so early hor... U c already then say...\n",
      "4         ham  Nah I don't think he goes to usf, he lives aro...\n",
      "...       ...                                                ...\n",
      "5567     spam  This is the 2nd time we have tried 2 contact u...\n",
      "5568      ham               Will ü b going to esplanade fr home?\n",
      "5569      ham  Pity, * was in mood for that. So...any other s...\n",
      "5570      ham  The guy did some bitching but I acted like i'd...\n",
      "5571      ham                         Rofl. Its true to its name\n",
      "\n",
      "[5572 rows x 2 columns]\n"
     ]
    }
   ],
   "source": [
    "print(mail_data)"
   ]
  },
  {
   "cell_type": "code",
   "execution_count": 4,
   "id": "19f51d4e",
   "metadata": {},
   "outputs": [],
   "source": [
    "#replace null values with null strings\n",
    "mail = mail_data.where((pd.notnull(mail_data)),'')"
   ]
  },
  {
   "cell_type": "code",
   "execution_count": 5,
   "id": "9bd0782f",
   "metadata": {},
   "outputs": [
    {
     "data": {
      "text/html": [
       "<div>\n",
       "<style scoped>\n",
       "    .dataframe tbody tr th:only-of-type {\n",
       "        vertical-align: middle;\n",
       "    }\n",
       "\n",
       "    .dataframe tbody tr th {\n",
       "        vertical-align: top;\n",
       "    }\n",
       "\n",
       "    .dataframe thead th {\n",
       "        text-align: right;\n",
       "    }\n",
       "</style>\n",
       "<table border=\"1\" class=\"dataframe\">\n",
       "  <thead>\n",
       "    <tr style=\"text-align: right;\">\n",
       "      <th></th>\n",
       "      <th>Category</th>\n",
       "      <th>Message</th>\n",
       "    </tr>\n",
       "  </thead>\n",
       "  <tbody>\n",
       "    <tr>\n",
       "      <th>0</th>\n",
       "      <td>ham</td>\n",
       "      <td>Go until jurong point, crazy.. Available only ...</td>\n",
       "    </tr>\n",
       "    <tr>\n",
       "      <th>1</th>\n",
       "      <td>ham</td>\n",
       "      <td>Ok lar... Joking wif u oni...</td>\n",
       "    </tr>\n",
       "    <tr>\n",
       "      <th>2</th>\n",
       "      <td>spam</td>\n",
       "      <td>Free entry in 2 a wkly comp to win FA Cup fina...</td>\n",
       "    </tr>\n",
       "    <tr>\n",
       "      <th>3</th>\n",
       "      <td>ham</td>\n",
       "      <td>U dun say so early hor... U c already then say...</td>\n",
       "    </tr>\n",
       "    <tr>\n",
       "      <th>4</th>\n",
       "      <td>ham</td>\n",
       "      <td>Nah I don't think he goes to usf, he lives aro...</td>\n",
       "    </tr>\n",
       "  </tbody>\n",
       "</table>\n",
       "</div>"
      ],
      "text/plain": [
       "  Category                                            Message\n",
       "0      ham  Go until jurong point, crazy.. Available only ...\n",
       "1      ham                      Ok lar... Joking wif u oni...\n",
       "2     spam  Free entry in 2 a wkly comp to win FA Cup fina...\n",
       "3      ham  U dun say so early hor... U c already then say...\n",
       "4      ham  Nah I don't think he goes to usf, he lives aro..."
      ]
     },
     "execution_count": 5,
     "metadata": {},
     "output_type": "execute_result"
    }
   ],
   "source": [
    "mail.head()"
   ]
  },
  {
   "cell_type": "code",
   "execution_count": 6,
   "id": "5463f12b",
   "metadata": {},
   "outputs": [
    {
     "data": {
      "text/plain": [
       "(5572, 2)"
      ]
     },
     "execution_count": 6,
     "metadata": {},
     "output_type": "execute_result"
    }
   ],
   "source": [
    "#checking the number of rows and columns\n",
    "mail.shape"
   ]
  },
  {
   "cell_type": "markdown",
   "id": "79cbf5a3",
   "metadata": {},
   "source": [
    "# Label Encoding"
   ]
  },
  {
   "cell_type": "code",
   "execution_count": 7,
   "id": "de75bf42",
   "metadata": {},
   "outputs": [],
   "source": [
    "#Label Spam mail as 0 ; Ham mail as 1\n",
    "mail.loc[mail['Category'] == 'spam', 'Category',] = 0\n",
    "mail.loc[mail['Category'] == 'ham', 'Category',] = 1"
   ]
  },
  {
   "cell_type": "code",
   "execution_count": 8,
   "id": "a1757c8f",
   "metadata": {},
   "outputs": [],
   "source": [
    "#seprating the data as texts and labels\n",
    "\n",
    "X = mail['Message']\n",
    "\n",
    "Y = mail['Category']"
   ]
  },
  {
   "cell_type": "code",
   "execution_count": 9,
   "id": "20ab4c3b",
   "metadata": {},
   "outputs": [
    {
     "data": {
      "text/plain": [
       "0    Go until jurong point, crazy.. Available only ...\n",
       "1                        Ok lar... Joking wif u oni...\n",
       "2    Free entry in 2 a wkly comp to win FA Cup fina...\n",
       "3    U dun say so early hor... U c already then say...\n",
       "4    Nah I don't think he goes to usf, he lives aro...\n",
       "Name: Message, dtype: object"
      ]
     },
     "execution_count": 9,
     "metadata": {},
     "output_type": "execute_result"
    }
   ],
   "source": [
    "X.head()"
   ]
  },
  {
   "cell_type": "code",
   "execution_count": 10,
   "id": "026c6173",
   "metadata": {},
   "outputs": [
    {
     "data": {
      "text/plain": [
       "0    1\n",
       "1    1\n",
       "2    0\n",
       "3    1\n",
       "4    1\n",
       "Name: Category, dtype: object"
      ]
     },
     "execution_count": 10,
     "metadata": {},
     "output_type": "execute_result"
    }
   ],
   "source": [
    "Y.head()"
   ]
  },
  {
   "cell_type": "markdown",
   "id": "b64ed40d",
   "metadata": {},
   "source": [
    "# Splitting the data into train and test data"
   ]
  },
  {
   "cell_type": "code",
   "execution_count": 11,
   "id": "0575212e",
   "metadata": {},
   "outputs": [],
   "source": [
    "X_train, X_test, Y_train, Y_test = train_test_split(X, Y, test_size = 0.3, random_state=42)"
   ]
  },
  {
   "cell_type": "code",
   "execution_count": 12,
   "id": "fd3317d6",
   "metadata": {},
   "outputs": [
    {
     "name": "stdout",
     "output_type": "stream",
     "text": [
      "(5572,)\n",
      "(3900,)\n",
      "(1672,)\n"
     ]
    }
   ],
   "source": [
    "print (X.shape)\n",
    "print (X_train.shape)\n",
    "print (X_test.shape)"
   ]
  },
  {
   "cell_type": "markdown",
   "id": "69cac92d",
   "metadata": {},
   "source": [
    "# Feature Extraction"
   ]
  },
  {
   "cell_type": "code",
   "execution_count": 13,
   "id": "1f21ad55",
   "metadata": {},
   "outputs": [],
   "source": [
    "#Transform the text data to feature vector that can be use as input to the logistics regression\n",
    "\n",
    "feature_extraction = TfidfVectorizer(min_df = 1, stop_words = 'english', lowercase = 'True')\n",
    "\n",
    "X_train_features = feature_extraction.fit_transform(X_train)\n",
    "X_test_features = feature_extraction.transform(X_test)\n",
    "\n",
    "#convert Y_train and Y_test values as integers\n",
    "Y_train = Y_train.astype('int')\n",
    "Y_test = Y_test.astype('int')"
   ]
  },
  {
   "cell_type": "code",
   "execution_count": 19,
   "id": "b4dccd2f",
   "metadata": {},
   "outputs": [
    {
     "name": "stdout",
     "output_type": "stream",
     "text": [
      "  (0, 2221)\t0.4595576461719437\n",
      "  (0, 6907)\t0.42057032296489166\n",
      "  (0, 260)\t0.3977642008852706\n",
      "  (0, 943)\t0.35285068394560465\n",
      "  (0, 3629)\t0.33392519134134463\n",
      "  (0, 3634)\t0.31674844532481095\n",
      "  (0, 5025)\t0.3425956765507876\n",
      "  (1, 5087)\t0.564752315585174\n",
      "  (1, 4329)\t0.4556948018194525\n",
      "  (1, 6399)\t0.6880385669683886\n",
      "  (2, 5909)\t0.4598907748288949\n",
      "  (2, 1882)\t0.5577039025555312\n",
      "  (2, 5320)\t0.407962240134966\n",
      "  (2, 1557)\t0.5577039025555312\n",
      "  (3, 2032)\t0.5517950786382567\n",
      "  (3, 1762)\t0.4550182724182232\n",
      "  (3, 6157)\t0.39464721758363247\n",
      "  (3, 889)\t0.4179976347325351\n",
      "  (3, 5392)\t0.3975073759914889\n",
      "  (4, 3168)\t0.517613431846439\n",
      "  (4, 5675)\t0.6128580677760653\n",
      "  (4, 2864)\t0.40046755880208973\n",
      "  (4, 6864)\t0.44283976592107693\n",
      "  (5, 6369)\t0.3834923635990344\n",
      "  (5, 5884)\t0.4325022650654002\n",
      "  :\t:\n",
      "  (3895, 6835)\t0.4724310616139888\n",
      "  (3895, 6851)\t0.3960620484148489\n",
      "  (3895, 2277)\t0.4500945571447008\n",
      "  (3895, 2080)\t0.26990881063254835\n",
      "  (3895, 2891)\t0.2286724629283105\n",
      "  (3895, 3085)\t0.26272736081331977\n",
      "  (3896, 5751)\t0.5972785044700903\n",
      "  (3896, 3637)\t0.6034974734888896\n",
      "  (3896, 3758)\t0.5282510649213112\n",
      "  (3897, 5755)\t0.44641749433429984\n",
      "  (3897, 5756)\t0.44641749433429984\n",
      "  (3897, 4851)\t0.4337802935282666\n",
      "  (3897, 2711)\t0.3842002175270242\n",
      "  (3897, 5098)\t0.4071627632103983\n",
      "  (3897, 3048)\t0.3160161001565619\n",
      "  (3898, 3463)\t0.5547403398631443\n",
      "  (3898, 4386)\t0.4976365821891147\n",
      "  (3898, 5481)\t0.5303714519182342\n",
      "  (3898, 6285)\t0.40413748945848094\n",
      "  (3899, 4249)\t0.5341816759004991\n",
      "  (3899, 5723)\t0.46235406855273553\n",
      "  (3899, 6075)\t0.47878508271631537\n",
      "  (3899, 5388)\t0.33110519415437856\n",
      "  (3899, 3492)\t0.24371977835418776\n",
      "  (3899, 2080)\t0.32033344663986374\n"
     ]
    }
   ],
   "source": [
    "#X_train is converted to numerical values which our computer will understand.\n",
    "\n",
    "print(X_train_features)"
   ]
  },
  {
   "cell_type": "markdown",
   "id": "cf6e5a74",
   "metadata": {},
   "source": [
    "# Traing the model: Logistic Regression"
   ]
  },
  {
   "cell_type": "code",
   "execution_count": 20,
   "id": "6f70b784",
   "metadata": {},
   "outputs": [],
   "source": [
    "Model = LogisticRegression()"
   ]
  },
  {
   "cell_type": "code",
   "execution_count": 22,
   "id": "512fdf0e",
   "metadata": {},
   "outputs": [
    {
     "data": {
      "text/plain": [
       "LogisticRegression()"
      ]
     },
     "execution_count": 22,
     "metadata": {},
     "output_type": "execute_result"
    }
   ],
   "source": [
    "#Training the logistics Regression model with the training data\n",
    "Model.fit(X_train_features, Y_train)"
   ]
  },
  {
   "cell_type": "markdown",
   "id": "bbd3b98f",
   "metadata": {},
   "source": [
    "# Evaluating the trained model"
   ]
  },
  {
   "cell_type": "code",
   "execution_count": 24,
   "id": "18ed57c3",
   "metadata": {},
   "outputs": [],
   "source": [
    "#training data prediction\n",
    "\n",
    "training_data_prediction = Model.predict(X_train_features)\n",
    "training_data_accuracy = accuracy_score(Y_train, training_data_prediction)"
   ]
  },
  {
   "cell_type": "code",
   "execution_count": 27,
   "id": "afa613ea",
   "metadata": {},
   "outputs": [
    {
     "name": "stdout",
     "output_type": "stream",
     "text": [
      "Accuracy on training: 0.963076923076923\n"
     ]
    }
   ],
   "source": [
    "print('Accuracy on training data:', training_data_accuracy)"
   ]
  },
  {
   "cell_type": "code",
   "execution_count": 28,
   "id": "09c61de4",
   "metadata": {},
   "outputs": [],
   "source": [
    "#test data prediction\n",
    "\n",
    "test_data_prediction = Model.predict(X_test_features)\n",
    "test_data_accuracy = accuracy_score(Y_test, test_data_prediction)"
   ]
  },
  {
   "cell_type": "code",
   "execution_count": 29,
   "id": "617abe57",
   "metadata": {},
   "outputs": [
    {
     "name": "stdout",
     "output_type": "stream",
     "text": [
      "Accuracy on test data: 0.9659090909090909\n"
     ]
    }
   ],
   "source": [
    "print('Accuracy on test data:', test_data_accuracy)"
   ]
  },
  {
   "cell_type": "markdown",
   "id": "e2aabf24",
   "metadata": {},
   "source": [
    "# Building a predictive system"
   ]
  },
  {
   "cell_type": "markdown",
   "id": "d209b2af",
   "metadata": {},
   "source": [
    "# SPAM = 0, HAM = 1"
   ]
  },
  {
   "cell_type": "code",
   "execution_count": 47,
   "id": "1b678412",
   "metadata": {},
   "outputs": [
    {
     "name": "stdout",
     "output_type": "stream",
     "text": [
      "[0]\n",
      "SPAM MAIL\n"
     ]
    }
   ],
   "source": [
    "mail_example = [\"XXXMobileMovieClub: To use your credit, click the WAP link in the next txt message or click here>> http://wap. xxxmobilemovieclub.com?n=QJKGIGHJJGCBL\"]\n",
    "\n",
    "#convert text to feature vectors\n",
    "data_example_features = feature_extraction.transform(mail_example)\n",
    "\n",
    "#making prediction\n",
    "prediction = Model.predict(data_example_features)\n",
    "print(prediction)\n",
    "\n",
    "if prediction[0] == 1:\n",
    "    print(\"HAM MAIL\")\n",
    "else:\n",
    "    print('SPAM MAIL')"
   ]
  },
  {
   "cell_type": "code",
   "execution_count": null,
   "id": "6217c0c1",
   "metadata": {},
   "outputs": [],
   "source": []
  },
  {
   "cell_type": "code",
   "execution_count": null,
   "id": "eade89ab",
   "metadata": {},
   "outputs": [],
   "source": []
  }
 ],
 "metadata": {
  "kernelspec": {
   "display_name": "Python 3 (ipykernel)",
   "language": "python",
   "name": "python3"
  },
  "language_info": {
   "codemirror_mode": {
    "name": "ipython",
    "version": 3
   },
   "file_extension": ".py",
   "mimetype": "text/x-python",
   "name": "python",
   "nbconvert_exporter": "python",
   "pygments_lexer": "ipython3",
   "version": "3.9.7"
  }
 },
 "nbformat": 4,
 "nbformat_minor": 5
}
